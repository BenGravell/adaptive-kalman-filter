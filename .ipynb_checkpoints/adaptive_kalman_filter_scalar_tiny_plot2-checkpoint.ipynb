{
 "cells": [
  {
   "cell_type": "markdown",
   "metadata": {
    "slideshow": {
     "slide_type": "slide"
    }
   },
   "source": [
    "# Adaptive Kalman Filter\n",
    "\n",
    "This code implements the adaptive Kalman filter for a scalar system with an unknown measurement noise covariance matrix R.\n",
    "\n",
    "The filter is based on the work in \"Adaptive Kalman Filter for Detectable Linear Time-Invariant Systems\" by Moghe, Zanetti and Akella at https://arc.aiaa.org/doi/full/10.2514/1.G004359."
   ]
  },
  {
   "cell_type": "markdown",
   "metadata": {
    "cell_style": "center",
    "slideshow": {
     "slide_type": "slide"
    }
   },
   "source": [
    "Begin with some boilerplate steps:\n",
    "\n",
    "  * Import `numpy` and `matplotlib`\n",
    "  * Define the system parameters `F, H, Q, R`\n",
    "  * Define the number of sample runs `N`\n",
    "  * Define the number of timesteps to simulate `T`  \n",
    "  * Initialize\n",
    "    * State estimate `x_post`\n",
    "    * State estimate error covariance `P_post`\n",
    "    * Measurement noise covariance estimate `R_est`\n",
    "    * Measurement error covariance `L`"
   ]
  },
  {
   "cell_type": "code",
   "execution_count": null,
   "metadata": {
    "cell_style": "center",
    "slideshow": {
     "slide_type": "fragment"
    }
   },
   "outputs": [],
   "source": [
    "import numpy as np\n",
    "import numpy.random as npr\n",
    "import matplotlib.pyplot as plt\n",
    "F, H, Q, R = 0.5, 2, 4, 10\n",
    "N, T = 10, 10000\n",
    "x_post0, P_post0, R_est0, L0 = 0, 100, 100, 0\n",
    "k_hist = np.arange(T)+1\n",
    "print_k = np.logspace(0,np.log10(T),np.log10(T)+1)"
   ]
  },
  {
   "cell_type": "markdown",
   "metadata": {
    "cell_style": "center",
    "slideshow": {
     "slide_type": "slide"
    }
   },
   "source": [
    "Precompute some quantities needed for the noise covariance estimation."
   ]
  },
  {
   "cell_type": "code",
   "execution_count": null,
   "metadata": {
    "cell_style": "center",
    "slideshow": {
     "slide_type": "fragment"
    }
   },
   "outputs": [],
   "source": [
    "Mopi    = 1/H\n",
    "A1      = 1\n",
    "B1      = -F*Mopi\n",
    "B2      = Mopi\n",
    "kronA   = A1**2\n",
    "kronB   = B1**2+B2**2\n",
    "S       = np.copy(kronB)\n",
    "CW      = kronA*Q"
   ]
  },
  {
   "cell_type": "markdown",
   "metadata": {
    "cell_style": "center",
    "slideshow": {
     "slide_type": "slide"
    }
   },
   "source": [
    "Define the noise covariance estimation function \n",
    "(the \"adaptive\" part) ..."
   ]
  },
  {
   "cell_type": "code",
   "execution_count": null,
   "metadata": {
    "cell_style": "center",
    "slideshow": {
     "slide_type": "fragment"
    }
   },
   "outputs": [],
   "source": [
    "def noise_covariance_estimation(y_new, y_old, L, k):\n",
    "    Z = Mopi*(y_new-F*y_old)\n",
    "    L = L*(k-1)/k + Z*Z/k\n",
    "    return (L-CW)/S, L"
   ]
  },
  {
   "cell_type": "markdown",
   "metadata": {
    "cell_style": "center",
    "slideshow": {
     "slide_type": "fragment"
    }
   },
   "source": [
    "... and the state estimation function \n",
    "(standard Kalman filter updates)."
   ]
  },
  {
   "cell_type": "code",
   "execution_count": null,
   "metadata": {
    "cell_style": "center",
    "slideshow": {
     "slide_type": "fragment"
    }
   },
   "outputs": [],
   "source": [
    "def state_estimation(y_new, x_post, P_post, R_est):\n",
    "    x_pre  = F*x_post\n",
    "    P_pre  = F*P_post*F + Q\n",
    "    K      = P_pre*H/(H*P_pre*H+R_est)\n",
    "    x_post = x_pre + K*(y_new-H*x_pre)\n",
    "    IKH    = 1 - K*H\n",
    "    P_post = IKH*P_pre*IKH + K*R_est*K\n",
    "    return x_post, P_post"
   ]
  },
  {
   "cell_type": "markdown",
   "metadata": {
    "slideshow": {
     "slide_type": "slide"
    }
   },
   "source": [
    "Define the adaptive Kalman filter iterations supporting 3 different noise estimation methods:\n",
    "  * `true`  Use the true noise covariance (optimal).\n",
    "  * `static`  Use an incorrect noise covariance without updating (forever suboptimal).\n",
    "  * `adaptive`  Estimate and use the noise covariance (asymptotically optimal)."
   ]
  },
  {
   "cell_type": "code",
   "execution_count": null,
   "metadata": {
    "slideshow": {
     "slide_type": "fragment"
    }
   },
   "outputs": [],
   "source": [
    "def adaptive_kalman_filter(noise_estimation_method):\n",
    "    print(\"State estimation using %s noise covariance estimates\" % noise_estimation_method)\n",
    "    x_true_history, x_post_history, R_est_history  = np.zeros([N,T]), np.zeros([N,T]), np.zeros([N,T])\n",
    "    R0 = R if noise_estimation_method == \"true\" else R_est0\n",
    "    for i in range(N):\n",
    "        x_post, P_post, R_est, L, x = x_post0, P_post0, R0, L0, npr.randn()\n",
    "        for k in range(T):\n",
    "            w, v = Q**0.5*npr.randn(), R**0.5*npr.randn()\n",
    "            y_new = H*x + v\n",
    "            if noise_estimation_method == \"adaptive\":\n",
    "                if k > 0:\n",
    "                    R_est_new, L = noise_covariance_estimation(y_new, y_old, L, k)\n",
    "                    if R_est_new > 0:\n",
    "                        R_est = R_est_new                \n",
    "            elif noise_estimation_method == \"static\":\n",
    "                R_est = R_est0\n",
    "            elif noise_estimation_method == \"true\":\n",
    "                R_est = R\n",
    "            R_est_history[i,k] = R_est\n",
    "            x_post, P_post = state_estimation(y_new, x_post, P_post, R_est)\n",
    "            x_post_history[i,k] = x_post\n",
    "            x_true_history[i,k] = x            \n",
    "            x = F*x + w\n",
    "            y_old = np.copy(y_new)\n",
    "            if k+1 in print_k:\n",
    "                print('i = %3d, k = %8d: R_true = %8.6f, R_est = %8.6f' % (i+1, k+1, R, R_est))\n",
    "    print('')\n",
    "    return x_true_history, x_post_history, R_est_history"
   ]
  },
  {
   "cell_type": "markdown",
   "metadata": {
    "slideshow": {
     "slide_type": "slide"
    }
   },
   "source": [
    "Run the (adaptive) Kalman filter iterations."
   ]
  },
  {
   "cell_type": "code",
   "execution_count": null,
   "metadata": {
    "slideshow": {
     "slide_type": "fragment"
    }
   },
   "outputs": [],
   "source": [
    "x_true_history_true,     x_post_history_true,     R_est_history_true     = adaptive_kalman_filter(\"true\")\n",
    "x_true_history_static,   x_post_history_static,   R_est_history_static   = adaptive_kalman_filter(\"static\")\n",
    "x_true_history_adaptive, x_post_history_adaptive, R_est_history_adaptive = adaptive_kalman_filter(\"adaptive\")"
   ]
  },
  {
   "cell_type": "markdown",
   "metadata": {
    "slideshow": {
     "slide_type": "slide"
    }
   },
   "source": [
    "Plot the results of the estimation error of R vs time using the adaptive Kalman filter.\n",
    "  * log-log plot shows convergence to the true value\n",
    "  * Convergence follows the slow geometric rate of $\\mathcal{O}\\left(\\frac{1}{\\sqrt{k}}\\right)$ typical of least-squares estimators"
   ]
  },
  {
   "cell_type": "code",
   "execution_count": null,
   "metadata": {
    "slideshow": {
     "slide_type": "fragment"
    }
   },
   "outputs": [],
   "source": [
    "fig,ax = plt.subplots(figsize=(12, 8))\n",
    "R_err = {}\n",
    "for perc in [0,25,50,75,100]:\n",
    "    R_err[perc] = np.percentile(np.abs(R_est_history_adaptive-R),perc,axis=0)\n",
    "guideline = np.power(k_hist,-0.5)\n",
    "guideline = np.max(R_err[75][10:]/guideline[10:])*guideline\n",
    "plt.fill_between(k_hist, R_err[25], R_err[75], facecolor='grey', alpha=0.5)\n",
    "plt.fill_between(k_hist, R_err[0], R_err[100], facecolor='lightgrey', alpha=0.5)\n",
    "plt.loglog(k_hist, R_err[50], linewidth=2)\n",
    "plt.loglog(k_hist, guideline, 'r--', linewidth=2)\n",
    "plt.ylim([R_err[25].min(),R_err[100].max()*1.12])\n",
    "plt.xlabel(\"Time step (k)\")\n",
    "plt.ylabel(r\"$|\\hat{R}_k-R|$\",rotation=0,labelpad=60)\n",
    "plt.title(\"Estimation error of R vs time\",pad=10)\n",
    "plt.legend([\"Adaptive\",r\"$\\mathcal{O}(1/\\sqrt{k})$\"],fontsize=16)\n",
    "for item in ([ax.title, ax.xaxis.label, ax.yaxis.label] + ax.get_xticklabels() + ax.get_yticklabels()):\n",
    "    item.set_fontsize(20)\n",
    "fig.subplots_adjust(left = 0.3,bottom = 0.15)"
   ]
  },
  {
   "cell_type": "markdown",
   "metadata": {
    "slideshow": {
     "slide_type": "slide"
    }
   },
   "source": [
    "Plot the results of the mean-square state estimation error vs time.\n",
    "  * Adaptive state estimates converge to the optimal ones using true `R`\n",
    "  * Static state estimates using incorrect `R` are suboptimal and never improve"
   ]
  },
  {
   "cell_type": "code",
   "execution_count": null,
   "metadata": {
    "slideshow": {
     "slide_type": "fragment"
    }
   },
   "outputs": [],
   "source": [
    "fig,ax = plt.subplots(figsize=(12, 8))\n",
    "mse_true = np.cumsum(np.square(x_post_history_true-x_true_history_true),axis=1)/k_hist\n",
    "mse_static = np.cumsum(np.square(x_post_history_static-x_true_history_static),axis=1)/k_hist\n",
    "mse_adaptive = np.cumsum(np.square(x_post_history_adaptive-x_true_history_adaptive),axis=1)/k_hist\n",
    "plt.semilogx(k_hist, np.median(mse_true,axis=0), linewidth=2)\n",
    "plt.semilogx(k_hist, np.median(mse_static,axis=0), linewidth=2)\n",
    "plt.semilogx(k_hist, np.median(mse_adaptive,axis=0), linewidth=2)\n",
    "plt.xlabel(\"Time step (k)\")\n",
    "plt.ylabel(r\"$\\frac{\\sum_{i=0}^k \\| \\hat{x}_i-x_i \\|^2}{k}$\",rotation=0,labelpad=65,fontsize=28)\n",
    "plt.title(\"State estimate error vs time\",pad=10)\n",
    "plt.legend([\"True\",\"Static\",\"Adaptive\"],fontsize=16)\n",
    "for item in ([ax.title, ax.xaxis.label] + ax.get_xticklabels() + ax.get_yticklabels()):\n",
    "    item.set_fontsize(20)\n",
    "fig.subplots_adjust(left = 0.3,bottom = 0.15)"
   ]
  }
 ],
 "metadata": {
  "celltoolbar": "Slideshow",
  "kernelspec": {
   "display_name": "Python 3",
   "language": "python",
   "name": "python3"
  },
  "language_info": {
   "codemirror_mode": {
    "name": "ipython",
    "version": 3
   },
   "file_extension": ".py",
   "mimetype": "text/x-python",
   "name": "python",
   "nbconvert_exporter": "python",
   "pygments_lexer": "ipython3",
   "version": "3.6.9"
  }
 },
 "nbformat": 4,
 "nbformat_minor": 2
}
