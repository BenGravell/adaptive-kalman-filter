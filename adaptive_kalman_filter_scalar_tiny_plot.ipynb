{
 "cells": [
  {
   "cell_type": "markdown",
   "metadata": {
    "slideshow": {
     "slide_type": "slide"
    }
   },
   "source": [
    "# Adaptive Kalman Filter\n",
    "\n",
    "This code implements the adaptive Kalman filter for a scalar system with an unknown measurement noise covariance matrix R.\n",
    "\n",
    "The filter is based on the work in \"Adaptive Kalman Filter for Detectable Linear Time-Invariant Systems\" by Moghe, Zanetti and Akella at https://arc.aiaa.org/doi/full/10.2514/1.G004359."
   ]
  },
  {
   "cell_type": "markdown",
   "metadata": {
    "slideshow": {
     "slide_type": "slide"
    }
   },
   "source": [
    "Begin by\n",
    "  * Importing `numpy` and `matplotlib`\n",
    "  * Defining the system parameters `F, H, Q, R`\n",
    "  * Defining the number of timesteps to simulate `T`\n",
    "  * Initializing\n",
    "    * State estimate `x_post`\n",
    "    * State estimate error covariance `P_post`\n",
    "    * Measurement noise covariance estimate `R_est`\n",
    "    * Measurement error covariance `L`"
   ]
  },
  {
   "cell_type": "code",
   "execution_count": 1,
   "metadata": {
    "slideshow": {
     "slide_type": "fragment"
    }
   },
   "outputs": [],
   "source": [
    "import numpy as np, numpy.random as npr, matplotlib.pyplot as plt\n",
    "F, H, Q, R = 0.5, 1, 3, 5\n",
    "x_post, P_post, R_est, L = 0, 10, 10, 0\n",
    "x = npr.randn()\n",
    "T = 100000\n",
    "R_est_history = np.zeros(T)"
   ]
  },
  {
   "cell_type": "markdown",
   "metadata": {
    "slideshow": {
     "slide_type": "slide"
    }
   },
   "source": [
    "Precompute some quantities needed for the noise covariance estimation."
   ]
  },
  {
   "cell_type": "code",
   "execution_count": 2,
   "metadata": {
    "slideshow": {
     "slide_type": "fragment"
    }
   },
   "outputs": [],
   "source": [
    "Mopi    = 1/H\n",
    "A1      = 1\n",
    "B1      = -F*Mopi\n",
    "B2      = Mopi\n",
    "kronA   = A1**2\n",
    "kronB   = B1**2+B2**2\n",
    "S       = np.copy(kronB)\n",
    "CW      = kronA*Q\n",
    "print_k = np.logspace(0,np.log10(T),np.log10(T)+1)"
   ]
  },
  {
   "cell_type": "raw",
   "metadata": {
    "slideshow": {
     "slide_type": "slide"
    }
   },
   "source": [
    "Define the noise covariance estimation and state estimation functions."
   ]
  },
  {
   "cell_type": "code",
   "execution_count": 3,
   "metadata": {
    "slideshow": {
     "slide_type": "fragment"
    }
   },
   "outputs": [],
   "source": [
    "def noise_covariance_estimation(y_new, y_old, L):\n",
    "    Z = Mopi*(y_new-F*y_old)\n",
    "    L = L*(k-1)/k + Z*Z/k\n",
    "    return (L-CW)/S, L"
   ]
  },
  {
   "cell_type": "code",
   "execution_count": 4,
   "metadata": {
    "slideshow": {
     "slide_type": "fragment"
    }
   },
   "outputs": [],
   "source": [
    "def state_estimation(x_post, P_post):\n",
    "    x_pre  = F*x_post\n",
    "    P_pre  = F*P_post*F + Q\n",
    "    K      = P_pre*H/(H*P_pre*H+R_est)\n",
    "    x_post = x_pre + K*(ynew-H*x_pre)\n",
    "    IKH    = 1 - K*H\n",
    "    P_post = IKH*P_pre*IKH + K*R*K\n",
    "    return x_post, P_post"
   ]
  },
  {
   "cell_type": "markdown",
   "metadata": {
    "slideshow": {
     "slide_type": "slide"
    }
   },
   "source": [
    "Run the adaptive Kalman filter iterations."
   ]
  },
  {
   "cell_type": "code",
   "execution_count": 5,
   "metadata": {
    "slideshow": {
     "slide_type": "fragment"
    }
   },
   "outputs": [
    {
     "name": "stdout",
     "output_type": "stream",
     "text": [
      "k =        1: R_true = 5.000000, R_est = 10.000000\n",
      "k =       10: R_true = 5.000000, R_est = 2.258741\n",
      "k =      100: R_true = 5.000000, R_est = 6.043960\n",
      "k =     1000: R_true = 5.000000, R_est = 5.168508\n",
      "k =    10000: R_true = 5.000000, R_est = 5.041902\n",
      "k =   100000: R_true = 5.000000, R_est = 5.024265\n"
     ]
    }
   ],
   "source": [
    "for k in range(T):\n",
    "    w, v = Q**0.5*npr.randn(), R**0.5*npr.randn()\n",
    "    ynew = H*x + v\n",
    "    if k > 0:\n",
    "        R_est_new, L = noise_covariance_estimation(ynew, yold, L)\n",
    "        if R_est_new > 0: \n",
    "            R_est = R_est_new\n",
    "    R_est_history[k] = R_est  \n",
    "    x_post, P_post = state_estimation(x_post, P_post)\n",
    "    x = F*x + w\n",
    "    yold = np.copy(ynew)\n",
    "    if k+1 in print_k: \n",
    "        print('k = %8d: R_true = %8.6f, R_est = %8.6f' % (k+1, R, R_est))"
   ]
  },
  {
   "cell_type": "markdown",
   "metadata": {
    "slideshow": {
     "slide_type": "slide"
    }
   },
   "source": [
    "Plot the results of the estimation error of R. The log-log plot shows convergence to the true value, albeit at a slow geometric rate."
   ]
  },
  {
   "cell_type": "code",
   "execution_count": 7,
   "metadata": {
    "slideshow": {
     "slide_type": "fragment"
    }
   },
   "outputs": [
    {
     "data": {
      "image/png": "[encoded data removed]",
      "text/plain": [
       "<Figure size 576x432 with 1 Axes>"
      ]
     },
     "metadata": {
      "needs_background": "light"
     },
     "output_type": "display_data"
    }
   ],
   "source": [
    "fig,ax = plt.subplots(figsize=(8, 6))\n",
    "plt.loglog(np.abs(R_est_history-R))\n",
    "plt.xlabel(\"Time step (k)\")\n",
    "plt.ylabel(\"| R_est - R |\")\n",
    "plt.title(\"Estimation error of R vs time step\")\n",
    "for item in ([ax.title, ax.xaxis.label, ax.yaxis.label] +\n",
    "             ax.get_xticklabels() + ax.get_yticklabels()):\n",
    "    item.set_fontsize(20)\n",
    "plt.show()"
   ]
  },
  {
   "cell_type": "code",
   "execution_count": null,
   "metadata": {},
   "outputs": [],
   "source": []
  }
 ],
 "metadata": {
  "celltoolbar": "Slideshow",
  "kernelspec": {
   "display_name": "Python 3",
   "language": "python",
   "name": "python3"
  },
  "language_info": {
   "codemirror_mode": {
    "name": "ipython",
    "version": 3
   },
   "file_extension": ".py",
   "mimetype": "text/x-python",
   "name": "python",
   "nbconvert_exporter": "python",
   "pygments_lexer": "ipython3",
   "version": "3.7.3"
  },
  "rise": {
   "autolaunch": true,
   "enable_chalkboard": true,
   "scroll": true
  }
 },
 "nbformat": 4,
 "nbformat_minor": 2
}
