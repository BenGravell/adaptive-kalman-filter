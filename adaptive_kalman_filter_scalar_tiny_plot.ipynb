{
 "cells": [
  {
   "cell_type": "markdown",
   "metadata": {},
   "source": [
    "This code implements the adaptive Kalman filter for a scalar system with an unknown measurement noise covariance matrix R.\n",
    "The filter is based on the work in \"Adaptive Kalman Filter for Detectable Linear Time-Invariant Systems\" by Moghe, Zanetti and Akella at https://arc.aiaa.org/doi/full/10.2514/1.G004359."
   ]
  },
  {
   "cell_type": "markdown",
   "metadata": {},
   "source": [
    "Begin by importing NumPy and Matplotlib, defining the system parameters F, H, Q, R, the number of timesteps to simulate T, and initializing the state estimate x_post, state estimate error covariance P_post, the measurement noise covariance estimate R_est, and the measurement error covariance L."
   ]
  },
  {
   "cell_type": "code",
   "execution_count": null,
   "metadata": {},
   "outputs": [],
   "source": [
    "import numpy as np, numpy.random as npr, matplotlib.pyplot as plt\n",
    "F, H, Q, R = 0.5, 1, 3, 5\n",
    "x_post, P_post, R_est, L, T = 0, 10, 10, 0, 100000\n",
    "x = npr.randn()\n",
    "R_est_history = np.zeros(T)"
   ]
  },
  {
   "cell_type": "markdown",
   "metadata": {},
   "source": [
    "Run the adaptive Kalman filter iterations."
   ]
  },
  {
   "cell_type": "code",
   "execution_count": null,
   "metadata": {},
   "outputs": [],
   "source": [
    "for k in range(T):\n",
    "    w,v = Q**0.5*npr.randn(), R**0.5*npr.randn()\n",
    "    ynew = H*x + v\n",
    "    if k > 0:\n",
    "        Mopi = 1/H\n",
    "        Z = Mopi*ynew-F*Mopi*yold\n",
    "        L = L*(k-1)/k + Z*Z/k\n",
    "        Ai, Bi = 1, np.array([-F*Mopi,Mopi])\n",
    "        kronA, kronB = Ai**2, Bi[0]**2+Bi[1]**2\n",
    "        S = np.copy(kronB)\n",
    "        CW = kronA*Q\n",
    "        R_est_new = (L-CW)/S\n",
    "        if R_est_new > 0: R_est = R_est_new\n",
    "    R_est_history[k] = R_est\n",
    "    x_pre  = F*x_post\n",
    "    P_pre  = F*P_post*F + Q\n",
    "    K      = P_pre*H/(H*P_pre*H+R_est)\n",
    "    x_post = x_pre + K*(ynew-H*x_pre)\n",
    "    IKH    = 1 - K*H\n",
    "    P_post = IKH*P_pre*IKH + K*R*K\n",
    "    x = F*x + w\n",
    "    yold = np.copy(ynew)\n",
    "    print('k = %8d: R_true = %8.6f, R_est = %8.6f' % (k+1,R,R_est))"
   ]
  },
  {
   "cell_type": "markdown",
   "metadata": {},
   "source": [
    "Plot the results of the estimation error of R. The log-log plot shows convergence to the true value, albeit at a slow roughly geometric rate."
   ]
  },
  {
   "cell_type": "code",
   "execution_count": null,
   "metadata": {},
   "outputs": [],
   "source": [
    "plt.loglog(np.abs(R_est_history-R))\n",
    "plt.xlabel(\"Time step (k)\"); plt.ylabel(\"| R_est - R |\"); plt.title(\"Estimation error of R vs time step\")"
   ]
  }
 ],
 "metadata": {
  "celltoolbar": "Raw Cell Format",
  "kernelspec": {
   "display_name": "Python 3",
   "language": "python",
   "name": "python3"
  },
  "language_info": {
   "codemirror_mode": {
    "name": "ipython",
    "version": 3
   },
   "file_extension": ".py",
   "mimetype": "text/x-python",
   "name": "python",
   "nbconvert_exporter": "python",
   "pygments_lexer": "ipython3",
   "version": "3.6.9"
  }
 },
 "nbformat": 4,
 "nbformat_minor": 2
}
